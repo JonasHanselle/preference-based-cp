{
 "cells": [
  {
   "cell_type": "code",
   "execution_count": null,
   "metadata": {},
   "outputs": [
    {
     "ename": "TypeError",
     "evalue": "read_csv() got an unexpected keyword argument 'index'",
     "output_type": "error",
     "traceback": [
      "\u001b[0;31m---------------------------------------------------------------------------\u001b[0m",
      "\u001b[0;31mTypeError\u001b[0m                                 Traceback (most recent call last)",
      "Cell \u001b[0;32mIn[22], line 3\u001b[0m\n\u001b[1;32m      1\u001b[0m \u001b[38;5;28;01mimport\u001b[39;00m \u001b[38;5;21;01mpandas\u001b[39;00m \u001b[38;5;28;01mas\u001b[39;00m \u001b[38;5;21;01mpd\u001b[39;00m\n\u001b[0;32m----> 3\u001b[0m c10 \u001b[38;5;241m=\u001b[39m \u001b[43mpd\u001b[49m\u001b[38;5;241;43m.\u001b[39;49m\u001b[43mread_csv\u001b[49m\u001b[43m(\u001b[49m\u001b[38;5;124;43m\"\u001b[39;49m\u001b[38;5;124;43mcifar10_clip_results.csv\u001b[39;49m\u001b[38;5;124;43m\"\u001b[39;49m\u001b[43m,\u001b[49m\u001b[43m \u001b[49m\u001b[43mindex\u001b[49m\u001b[38;5;241;43m=\u001b[39;49m\u001b[38;5;28;43;01mFalse\u001b[39;49;00m\u001b[43m)\u001b[49m\n\u001b[1;32m      4\u001b[0m c100 \u001b[38;5;241m=\u001b[39m pd\u001b[38;5;241m.\u001b[39mread_csv(\u001b[38;5;124m\"\u001b[39m\u001b[38;5;124mcifar100_clip_results.csv\u001b[39m\u001b[38;5;124m\"\u001b[39m, index\u001b[38;5;241m=\u001b[39m\u001b[38;5;28;01mFalse\u001b[39;00m)\n",
      "\u001b[0;31mTypeError\u001b[0m: read_csv() got an unexpected keyword argument 'index'"
     ]
    }
   ],
   "source": [
    "import pandas as pd\n",
    "\n",
    "c10 = pd.read_csv(\"cifar10_clip_results.csv\").iloc[:,1:]\n",
    "c100 = pd.read_csv(\"cifar100_clip_results.csv\").iloc[:,1:]"
   ]
  },
  {
   "cell_type": "code",
   "execution_count": 23,
   "metadata": {},
   "outputs": [
    {
     "data": {
      "text/plain": [
       "Index(['Unnamed: 0', 'seed', 'alpha', 'coverage', 'avg_set_size',\n",
       "       'median_set_size', 'acc_score'],\n",
       "      dtype='object')"
      ]
     },
     "execution_count": 23,
     "metadata": {},
     "output_type": "execute_result"
    }
   ],
   "source": [
    "c10.columns"
   ]
  },
  {
   "cell_type": "code",
   "execution_count": 24,
   "metadata": {},
   "outputs": [
    {
     "name": "stdout",
     "output_type": "stream",
     "text": [
      "\\begin{tabular}{lllllll}\n",
      "\\toprule\n",
      " & \\multicolumn{3}{c}{CIFAR10} & \\multicolumn{3}{c}{CIFAR100} \\\\\n",
      " & Unnamed: 0 & coverage & avg_set_size & Unnamed: 0 & coverage & avg_set_size \\\\\n",
      "alpha &  &  &  &  &  &  \\\\\n",
      "\\midrule\n",
      "0.020000 & 18.0 ± 12.11 & 0.98 ± 0.0 & 4.98 ± 0.25 & 18.0 ± 12.11 & 0.98 ± 0.01 & 47.24 ± 4.0 \\\\\n",
      "0.050000 & 19.0 ± 12.11 & 0.95 ± 0.01 & 3.52 ± 0.15 & 19.0 ± 12.11 & 0.95 ± 0.01 & 31.32 ± 2.42 \\\\\n",
      "0.100000 & 20.0 ± 12.11 & 0.9 ± 0.01 & 2.38 ± 0.15 & 20.0 ± 12.11 & 0.9 ± 0.01 & 19.44 ± 1.49 \\\\\n",
      "0.200000 & 21.0 ± 12.11 & 0.8 ± 0.01 & 1.47 ± 0.06 & 21.0 ± 12.11 & 0.8 ± 0.01 & 9.19 ± 0.75 \\\\\n",
      "\\bottomrule\n",
      "\\end{tabular}\n",
      "\n"
     ]
    }
   ],
   "source": [
    "\n",
    "\n",
    "# Function to get formatted mean ± std\n",
    "def get_formatted_stats(df, group_col='alpha'):\n",
    "    agg = df.groupby(group_col).agg(['mean', 'std'])\n",
    "    agg.columns = ['_'.join(col) for col in agg.columns]\n",
    "    formatted = pd.DataFrame(index=agg.index)\n",
    "    cols = [col for col in df.columns if col not in [\"alpha\", \"seed\", \"acc_score\", \"median_set_size\"]]\n",
    "    for col in cols:\n",
    "        mean_col = f\"{col}_mean\"\n",
    "        std_col = f\"{col}_std\"\n",
    "        formatted[col] = agg[mean_col].round(2).astype(str) + ' ± ' + agg[std_col].round(2).astype(str)\n",
    "    return formatted\n",
    "\n",
    "# Get formatted stats\n",
    "stats_c10 = get_formatted_stats(c10)\n",
    "stats_c100 = get_formatted_stats(c100)\n",
    "\n",
    "# Combine with hierarchical columns\n",
    "combined = pd.concat([stats_c10, stats_c100], axis=1, keys=[\"CIFAR10\", \"CIFAR100\"])\n",
    "\n",
    "# Output LaTeX\n",
    "latex_table = combined.to_latex(multicolumn=True, multicolumn_format='c', index=True)\n",
    "\n",
    "print(latex_table)"
   ]
  },
  {
   "cell_type": "code",
   "execution_count": null,
   "metadata": {},
   "outputs": [],
   "source": []
  },
  {
   "cell_type": "code",
   "execution_count": null,
   "metadata": {},
   "outputs": [],
   "source": []
  },
  {
   "cell_type": "code",
   "execution_count": null,
   "metadata": {},
   "outputs": [],
   "source": []
  }
 ],
 "metadata": {
  "kernelspec": {
   "display_name": "venv",
   "language": "python",
   "name": "python3"
  },
  "language_info": {
   "codemirror_mode": {
    "name": "ipython",
    "version": 3
   },
   "file_extension": ".py",
   "mimetype": "text/x-python",
   "name": "python",
   "nbconvert_exporter": "python",
   "pygments_lexer": "ipython3",
   "version": "3.10.12"
  }
 },
 "nbformat": 4,
 "nbformat_minor": 2
}
